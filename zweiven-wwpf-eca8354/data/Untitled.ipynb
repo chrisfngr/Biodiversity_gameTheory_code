{
 "cells": [
  {
   "cell_type": "code",
   "execution_count": 1,
   "id": "3aa54e58",
   "metadata": {},
   "outputs": [],
   "source": [
    "import pandas as pd\n",
    "import pyreadr"
   ]
  },
  {
   "cell_type": "code",
   "execution_count": 2,
   "id": "12bab712",
   "metadata": {},
   "outputs": [],
   "source": [
    "# df = pd.read_csv('mammal_based_profiles.csv')"
   ]
  },
  {
   "cell_type": "code",
   "execution_count": 2,
   "id": "3963926b",
   "metadata": {},
   "outputs": [],
   "source": [
    "# count = 0\n",
    "# for i,ele in enumerate(df['AA0107']):\n",
    "#     if ele != 0:\n",
    "#         print(df['filt.abundances'][i])\n",
    "#         count += df['filt.abundances'][i]"
   ]
  },
  {
   "cell_type": "code",
   "execution_count": 3,
   "id": "eafa781e",
   "metadata": {},
   "outputs": [],
   "source": [
    "# count"
   ]
  },
  {
   "cell_type": "code",
   "execution_count": 13,
   "id": "60103d08",
   "metadata": {},
   "outputs": [
    {
     "ename": "LibrdataError",
     "evalue": "Invalid file, or file has unsupported features",
     "output_type": "error",
     "traceback": [
      "\u001b[1;31m---------------------------------------------------------------------------\u001b[0m",
      "\u001b[1;31mLibrdataError\u001b[0m                             Traceback (most recent call last)",
      "Cell \u001b[1;32mIn [13], line 1\u001b[0m\n\u001b[1;32m----> 1\u001b[0m result \u001b[39m=\u001b[39m pyreadr\u001b[39m.\u001b[39;49mread_r(\u001b[39m'\u001b[39;49m\u001b[39mecoregions_simplified.Rdata\u001b[39;49m\u001b[39m'\u001b[39;49m)\n",
      "File \u001b[1;32mc:\\Python310\\lib\\site-packages\\pyreadr\\pyreadr.py:66\u001b[0m, in \u001b[0;36mread_r\u001b[1;34m(path, use_objects, timezone)\u001b[0m\n\u001b[0;32m     64\u001b[0m \u001b[39mif\u001b[39;00m \u001b[39mnot\u001b[39;00m os\u001b[39m.\u001b[39mpath\u001b[39m.\u001b[39misfile(filename_bytes):\n\u001b[0;32m     65\u001b[0m     \u001b[39mraise\u001b[39;00m PyreadrError(\u001b[39m\"\u001b[39m\u001b[39mFile \u001b[39m\u001b[39m{0}\u001b[39;00m\u001b[39m does not exist!\u001b[39m\u001b[39m\"\u001b[39m\u001b[39m.\u001b[39mformat(filename_bytes))\n\u001b[1;32m---> 66\u001b[0m parser\u001b[39m.\u001b[39;49mparse(filename_bytes)\n\u001b[0;32m     68\u001b[0m result \u001b[39m=\u001b[39m OrderedDict()\n\u001b[0;32m     69\u001b[0m \u001b[39mfor\u001b[39;00m table_index, table \u001b[39min\u001b[39;00m \u001b[39menumerate\u001b[39m(parser\u001b[39m.\u001b[39mtable_data):\n",
      "File \u001b[1;32mc:\\Python310\\lib\\site-packages\\pyreadr\\librdata.pyx:148\u001b[0m, in \u001b[0;36mpyreadr.librdata.Parser.parse\u001b[1;34m()\u001b[0m\n",
      "File \u001b[1;32mc:\\Python310\\lib\\site-packages\\pyreadr\\librdata.pyx:177\u001b[0m, in \u001b[0;36mpyreadr.librdata.Parser.parse\u001b[1;34m()\u001b[0m\n",
      "\u001b[1;31mLibrdataError\u001b[0m: Invalid file, or file has unsupported features"
     ]
    }
   ],
   "source": [
    "result = pyreadr.read_r('ecoregions_simplified.Rdata')"
   ]
  },
  {
   "cell_type": "code",
   "execution_count": 12,
   "id": "a5d708e4",
   "metadata": {},
   "outputs": [],
   "source": [
    "for x in result:\n",
    "    print(x)"
   ]
  },
  {
   "cell_type": "code",
   "execution_count": null,
   "id": "debfa226",
   "metadata": {},
   "outputs": [],
   "source": []
  }
 ],
 "metadata": {
  "kernelspec": {
   "display_name": "Python 3.10.4 64-bit",
   "language": "python",
   "name": "python3"
  },
  "language_info": {
   "codemirror_mode": {
    "name": "ipython",
    "version": 3
   },
   "file_extension": ".py",
   "mimetype": "text/x-python",
   "name": "python",
   "nbconvert_exporter": "python",
   "pygments_lexer": "ipython3",
   "version": "3.10.4"
  },
  "vscode": {
   "interpreter": {
    "hash": "369f2c481f4da34e4445cda3fffd2e751bd1c4d706f27375911949ba6bb62e1c"
   }
  }
 },
 "nbformat": 4,
 "nbformat_minor": 5
}
